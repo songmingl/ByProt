{
 "cells": [
  {
   "cell_type": "markdown",
   "id": "02a5db26-8c14-42c4-9dc6-52fe6b1bf6f2",
   "metadata": {},
   "source": [
    "## NAR ProteinMPNN"
   ]
  },
  {
   "cell_type": "markdown",
   "id": "63464a4a",
   "metadata": {
    "jp-MarkdownHeadingCollapsed": true,
    "tags": []
   },
   "source": [
    "### byprot supplied script"
   ]
  },
  {
   "cell_type": "code",
   "execution_count": 1,
   "id": "c2c554d3",
   "metadata": {
    "collapsed": true,
    "jupyter": {
     "outputs_hidden": true
    },
    "tags": []
   },
   "outputs": [
    {
     "name": "stdout",
     "output_type": "stream",
     "text": [
      "Namespace(chain_id_jsonl='/nfs_beijing_td/nfsshare/nfshome/ming/em/meso_thermo/inverse_fold/infer/mpnn/1lvm-v3/outputs-gpu/assigned_pdbs.jsonl', ckpt='best.ckpt', experiment_path='../experiments/protein_mpnn_cmlm/', fixed_positions_jsonl='/nfs_beijing_td/nfsshare/nfshome/ming/em/meso_thermo/inverse_fold/infer/mpnn/1lvm-v3/outputs-gpu/fixed_pdbs.jsonl', jsonl_path='/nfs_beijing_td/nfsshare/nfshome/ming/em/meso_thermo/inverse_fold/infer/mpnn/1lvm-v3/outputs-gpu/parsed_pdbs.jsonl', max_iter=1, num_seqs=3, out_dir='./inpaint_test/', pdb_dir='./pdbs', seed=123, strategy='mask_predict', temperature=1.0, tied_positions_jsonl='')\n",
      "Restored from ../experiments/protein_mpnn_cmlm/checkpoints/best.ckpt with 0 missing and 0 unexpected keys\n",
      "----------------------------------------\n",
      "tied_positions_jsonl is NOT loaded\n",
      "discarded {'bad_chars': 0, 'too_long': 0, 'bad_seq_length': 0}\n"
     ]
    },
    {
     "name": "stderr",
     "output_type": "stream",
     "text": [
      "Global seed set to 123\n",
      "1lvm_chain_A:   0%|          | 0/1 [00:00<?, ?it/s]\n",
      "Traceback (most recent call last):\n",
      "  File \"/nfs_beijing_td/nfsshare/nfshome/ming/tools/ByProt-orig/examples/pmpnn_compatible/design_pdb.py\", line 204, in <module>\n",
      "    main()\n",
      "  File \"/nfs_beijing_td/nfsshare/nfshome/ming/tools/ByProt-orig/examples/pmpnn_compatible/design_pdb.py\", line 200, in main\n",
      "    generate(args)\n",
      "  File \"/nfs_beijing_td/nfsshare/nfshome/ming/tools/ByProt-orig/examples/pmpnn_compatible/design_pdb.py\", line 99, in generate\n",
      "    temperature=args.temperature,\n",
      "TypeError: sample() missing 2 required positional arguments: 'coords' and 'coord_mask'\n"
     ]
    },
    {
     "ename": "CalledProcessError",
     "evalue": "Command 'b'/nfs_beijing_td/nfsshare/nfshome/ming/tools/miniconda3/envs/ByProt/bin/python \\\\\\n    /nfs_beijing_td/nfsshare/nfshome/ming/tools/ByProt-orig/examples/pmpnn_compatible/design_pdb.py \\\\\\n    --experiment_path ../experiments/protein_mpnn_cmlm/ \\\\\\n    --ckpt \"best.ckpt\" \\\\\\n    --jsonl_path /nfs_beijing_td/nfsshare/nfshome/ming/em/meso_thermo/inverse_fold/infer/mpnn/1lvm-v3/outputs-gpu/parsed_pdbs.jsonl \\\\\\n    --chain_id_jsonl /nfs_beijing_td/nfsshare/nfshome/ming/em/meso_thermo/inverse_fold/infer/mpnn/1lvm-v3/outputs-gpu/assigned_pdbs.jsonl \\\\\\n    --fixed_positions_jsonl /nfs_beijing_td/nfsshare/nfshome/ming/em/meso_thermo/inverse_fold/infer/mpnn/1lvm-v3/outputs-gpu/fixed_pdbs.jsonl \\\\\\n    --out_dir ./inpaint_test/ \\\\\\n    --seed 123 \\\\\\n    --num_seqs 3 \\\\\\n    --temperature 1.0 \\\\\\n    --max_iter 1 --strategy \"mask_predict\"\\n'' returned non-zero exit status 1.",
     "output_type": "error",
     "traceback": [
      "\u001b[0;31m---------------------------------------------------------------------------\u001b[0m",
      "\u001b[0;31mCalledProcessError\u001b[0m                        Traceback (most recent call last)",
      "\u001b[0;32m/tmp/ipykernel_550/2740429998.py\u001b[0m in \u001b[0;36m<module>\u001b[0;34m\u001b[0m\n\u001b[0;32m----> 1\u001b[0;31m \u001b[0mget_ipython\u001b[0m\u001b[0;34m(\u001b[0m\u001b[0;34m)\u001b[0m\u001b[0;34m.\u001b[0m\u001b[0mrun_cell_magic\u001b[0m\u001b[0;34m(\u001b[0m\u001b[0;34m'bash'\u001b[0m\u001b[0;34m,\u001b[0m \u001b[0;34m''\u001b[0m\u001b[0;34m,\u001b[0m \u001b[0;34m'/nfs_beijing_td/nfsshare/nfshome/ming/tools/miniconda3/envs/ByProt/bin/python \\\\\\n    /nfs_beijing_td/nfsshare/nfshome/ming/tools/ByProt-orig/examples/pmpnn_compatible/design_pdb.py \\\\\\n    --experiment_path ../experiments/protein_mpnn_cmlm/ \\\\\\n    --ckpt \"best.ckpt\" \\\\\\n    --jsonl_path /nfs_beijing_td/nfsshare/nfshome/ming/em/meso_thermo/inverse_fold/infer/mpnn/1lvm-v3/outputs-gpu/parsed_pdbs.jsonl \\\\\\n    --chain_id_jsonl /nfs_beijing_td/nfsshare/nfshome/ming/em/meso_thermo/inverse_fold/infer/mpnn/1lvm-v3/outputs-gpu/assigned_pdbs.jsonl \\\\\\n    --fixed_positions_jsonl /nfs_beijing_td/nfsshare/nfshome/ming/em/meso_thermo/inverse_fold/infer/mpnn/1lvm-v3/outputs-gpu/fixed_pdbs.jsonl \\\\\\n    --out_dir ./inpaint_test/ \\\\\\n    --seed 123 \\\\\\n    --num_seqs 3 \\\\\\n    --temperature 1.0 \\\\\\n    --max_iter 1 --strategy \"mask_predict\"\\n'\u001b[0m\u001b[0;34m)\u001b[0m\u001b[0;34m\u001b[0m\u001b[0;34m\u001b[0m\u001b[0m\n\u001b[0m",
      "\u001b[0;32m/nfs_beijing_td/nfsshare/nfshome/ming/tools/miniconda3/envs/ByProt/lib/python3.7/site-packages/IPython/core/interactiveshell.py\u001b[0m in \u001b[0;36mrun_cell_magic\u001b[0;34m(self, magic_name, line, cell)\u001b[0m\n\u001b[1;32m   2470\u001b[0m             \u001b[0;32mwith\u001b[0m \u001b[0mself\u001b[0m\u001b[0;34m.\u001b[0m\u001b[0mbuiltin_trap\u001b[0m\u001b[0;34m:\u001b[0m\u001b[0;34m\u001b[0m\u001b[0;34m\u001b[0m\u001b[0m\n\u001b[1;32m   2471\u001b[0m                 \u001b[0margs\u001b[0m \u001b[0;34m=\u001b[0m \u001b[0;34m(\u001b[0m\u001b[0mmagic_arg_s\u001b[0m\u001b[0;34m,\u001b[0m \u001b[0mcell\u001b[0m\u001b[0;34m)\u001b[0m\u001b[0;34m\u001b[0m\u001b[0;34m\u001b[0m\u001b[0m\n\u001b[0;32m-> 2472\u001b[0;31m                 \u001b[0mresult\u001b[0m \u001b[0;34m=\u001b[0m \u001b[0mfn\u001b[0m\u001b[0;34m(\u001b[0m\u001b[0;34m*\u001b[0m\u001b[0margs\u001b[0m\u001b[0;34m,\u001b[0m \u001b[0;34m**\u001b[0m\u001b[0mkwargs\u001b[0m\u001b[0;34m)\u001b[0m\u001b[0;34m\u001b[0m\u001b[0;34m\u001b[0m\u001b[0m\n\u001b[0m\u001b[1;32m   2473\u001b[0m             \u001b[0;32mreturn\u001b[0m \u001b[0mresult\u001b[0m\u001b[0;34m\u001b[0m\u001b[0;34m\u001b[0m\u001b[0m\n\u001b[1;32m   2474\u001b[0m \u001b[0;34m\u001b[0m\u001b[0m\n",
      "\u001b[0;32m/nfs_beijing_td/nfsshare/nfshome/ming/tools/miniconda3/envs/ByProt/lib/python3.7/site-packages/IPython/core/magics/script.py\u001b[0m in \u001b[0;36mnamed_script_magic\u001b[0;34m(line, cell)\u001b[0m\n\u001b[1;32m    140\u001b[0m             \u001b[0;32melse\u001b[0m\u001b[0;34m:\u001b[0m\u001b[0;34m\u001b[0m\u001b[0;34m\u001b[0m\u001b[0m\n\u001b[1;32m    141\u001b[0m                 \u001b[0mline\u001b[0m \u001b[0;34m=\u001b[0m \u001b[0mscript\u001b[0m\u001b[0;34m\u001b[0m\u001b[0;34m\u001b[0m\u001b[0m\n\u001b[0;32m--> 142\u001b[0;31m             \u001b[0;32mreturn\u001b[0m \u001b[0mself\u001b[0m\u001b[0;34m.\u001b[0m\u001b[0mshebang\u001b[0m\u001b[0;34m(\u001b[0m\u001b[0mline\u001b[0m\u001b[0;34m,\u001b[0m \u001b[0mcell\u001b[0m\u001b[0;34m)\u001b[0m\u001b[0;34m\u001b[0m\u001b[0;34m\u001b[0m\u001b[0m\n\u001b[0m\u001b[1;32m    143\u001b[0m \u001b[0;34m\u001b[0m\u001b[0m\n\u001b[1;32m    144\u001b[0m         \u001b[0;31m# write a basic docstring:\u001b[0m\u001b[0;34m\u001b[0m\u001b[0;34m\u001b[0m\u001b[0;34m\u001b[0m\u001b[0m\n",
      "\u001b[0;32m/nfs_beijing_td/nfsshare/nfshome/ming/tools/miniconda3/envs/ByProt/lib/python3.7/site-packages/decorator.py\u001b[0m in \u001b[0;36mfun\u001b[0;34m(*args, **kw)\u001b[0m\n\u001b[1;32m    230\u001b[0m             \u001b[0;32mif\u001b[0m \u001b[0;32mnot\u001b[0m \u001b[0mkwsyntax\u001b[0m\u001b[0;34m:\u001b[0m\u001b[0;34m\u001b[0m\u001b[0;34m\u001b[0m\u001b[0m\n\u001b[1;32m    231\u001b[0m                 \u001b[0margs\u001b[0m\u001b[0;34m,\u001b[0m \u001b[0mkw\u001b[0m \u001b[0;34m=\u001b[0m \u001b[0mfix\u001b[0m\u001b[0;34m(\u001b[0m\u001b[0margs\u001b[0m\u001b[0;34m,\u001b[0m \u001b[0mkw\u001b[0m\u001b[0;34m,\u001b[0m \u001b[0msig\u001b[0m\u001b[0;34m)\u001b[0m\u001b[0;34m\u001b[0m\u001b[0;34m\u001b[0m\u001b[0m\n\u001b[0;32m--> 232\u001b[0;31m             \u001b[0;32mreturn\u001b[0m \u001b[0mcaller\u001b[0m\u001b[0;34m(\u001b[0m\u001b[0mfunc\u001b[0m\u001b[0;34m,\u001b[0m \u001b[0;34m*\u001b[0m\u001b[0;34m(\u001b[0m\u001b[0mextras\u001b[0m \u001b[0;34m+\u001b[0m \u001b[0margs\u001b[0m\u001b[0;34m)\u001b[0m\u001b[0;34m,\u001b[0m \u001b[0;34m**\u001b[0m\u001b[0mkw\u001b[0m\u001b[0;34m)\u001b[0m\u001b[0;34m\u001b[0m\u001b[0;34m\u001b[0m\u001b[0m\n\u001b[0m\u001b[1;32m    233\u001b[0m     \u001b[0mfun\u001b[0m\u001b[0;34m.\u001b[0m\u001b[0m__name__\u001b[0m \u001b[0;34m=\u001b[0m \u001b[0mfunc\u001b[0m\u001b[0;34m.\u001b[0m\u001b[0m__name__\u001b[0m\u001b[0;34m\u001b[0m\u001b[0;34m\u001b[0m\u001b[0m\n\u001b[1;32m    234\u001b[0m     \u001b[0mfun\u001b[0m\u001b[0;34m.\u001b[0m\u001b[0m__doc__\u001b[0m \u001b[0;34m=\u001b[0m \u001b[0mfunc\u001b[0m\u001b[0;34m.\u001b[0m\u001b[0m__doc__\u001b[0m\u001b[0;34m\u001b[0m\u001b[0;34m\u001b[0m\u001b[0m\n",
      "\u001b[0;32m/nfs_beijing_td/nfsshare/nfshome/ming/tools/miniconda3/envs/ByProt/lib/python3.7/site-packages/IPython/core/magic.py\u001b[0m in \u001b[0;36m<lambda>\u001b[0;34m(f, *a, **k)\u001b[0m\n\u001b[1;32m    185\u001b[0m     \u001b[0;31m# but it's overkill for just that one bit of state.\u001b[0m\u001b[0;34m\u001b[0m\u001b[0;34m\u001b[0m\u001b[0;34m\u001b[0m\u001b[0m\n\u001b[1;32m    186\u001b[0m     \u001b[0;32mdef\u001b[0m \u001b[0mmagic_deco\u001b[0m\u001b[0;34m(\u001b[0m\u001b[0marg\u001b[0m\u001b[0;34m)\u001b[0m\u001b[0;34m:\u001b[0m\u001b[0;34m\u001b[0m\u001b[0;34m\u001b[0m\u001b[0m\n\u001b[0;32m--> 187\u001b[0;31m         \u001b[0mcall\u001b[0m \u001b[0;34m=\u001b[0m \u001b[0;32mlambda\u001b[0m \u001b[0mf\u001b[0m\u001b[0;34m,\u001b[0m \u001b[0;34m*\u001b[0m\u001b[0ma\u001b[0m\u001b[0;34m,\u001b[0m \u001b[0;34m**\u001b[0m\u001b[0mk\u001b[0m\u001b[0;34m:\u001b[0m \u001b[0mf\u001b[0m\u001b[0;34m(\u001b[0m\u001b[0;34m*\u001b[0m\u001b[0ma\u001b[0m\u001b[0;34m,\u001b[0m \u001b[0;34m**\u001b[0m\u001b[0mk\u001b[0m\u001b[0;34m)\u001b[0m\u001b[0;34m\u001b[0m\u001b[0;34m\u001b[0m\u001b[0m\n\u001b[0m\u001b[1;32m    188\u001b[0m \u001b[0;34m\u001b[0m\u001b[0m\n\u001b[1;32m    189\u001b[0m         \u001b[0;32mif\u001b[0m \u001b[0mcallable\u001b[0m\u001b[0;34m(\u001b[0m\u001b[0marg\u001b[0m\u001b[0;34m)\u001b[0m\u001b[0;34m:\u001b[0m\u001b[0;34m\u001b[0m\u001b[0;34m\u001b[0m\u001b[0m\n",
      "\u001b[0;32m/nfs_beijing_td/nfsshare/nfshome/ming/tools/miniconda3/envs/ByProt/lib/python3.7/site-packages/IPython/core/magics/script.py\u001b[0m in \u001b[0;36mshebang\u001b[0;34m(self, line, cell)\u001b[0m\n\u001b[1;32m    243\u001b[0m             \u001b[0msys\u001b[0m\u001b[0;34m.\u001b[0m\u001b[0mstderr\u001b[0m\u001b[0;34m.\u001b[0m\u001b[0mflush\u001b[0m\u001b[0;34m(\u001b[0m\u001b[0;34m)\u001b[0m\u001b[0;34m\u001b[0m\u001b[0;34m\u001b[0m\u001b[0m\n\u001b[1;32m    244\u001b[0m         \u001b[0;32mif\u001b[0m \u001b[0margs\u001b[0m\u001b[0;34m.\u001b[0m\u001b[0mraise_error\u001b[0m \u001b[0;32mand\u001b[0m \u001b[0mp\u001b[0m\u001b[0;34m.\u001b[0m\u001b[0mreturncode\u001b[0m\u001b[0;34m!=\u001b[0m\u001b[0;36m0\u001b[0m\u001b[0;34m:\u001b[0m\u001b[0;34m\u001b[0m\u001b[0;34m\u001b[0m\u001b[0m\n\u001b[0;32m--> 245\u001b[0;31m             \u001b[0;32mraise\u001b[0m \u001b[0mCalledProcessError\u001b[0m\u001b[0;34m(\u001b[0m\u001b[0mp\u001b[0m\u001b[0;34m.\u001b[0m\u001b[0mreturncode\u001b[0m\u001b[0;34m,\u001b[0m \u001b[0mcell\u001b[0m\u001b[0;34m,\u001b[0m \u001b[0moutput\u001b[0m\u001b[0;34m=\u001b[0m\u001b[0mout\u001b[0m\u001b[0;34m,\u001b[0m \u001b[0mstderr\u001b[0m\u001b[0;34m=\u001b[0m\u001b[0merr\u001b[0m\u001b[0;34m)\u001b[0m\u001b[0;34m\u001b[0m\u001b[0;34m\u001b[0m\u001b[0m\n\u001b[0m\u001b[1;32m    246\u001b[0m \u001b[0;34m\u001b[0m\u001b[0m\n\u001b[1;32m    247\u001b[0m     \u001b[0;32mdef\u001b[0m \u001b[0m_run_script\u001b[0m\u001b[0;34m(\u001b[0m\u001b[0mself\u001b[0m\u001b[0;34m,\u001b[0m \u001b[0mp\u001b[0m\u001b[0;34m,\u001b[0m \u001b[0mcell\u001b[0m\u001b[0;34m,\u001b[0m \u001b[0mto_close\u001b[0m\u001b[0;34m)\u001b[0m\u001b[0;34m:\u001b[0m\u001b[0;34m\u001b[0m\u001b[0;34m\u001b[0m\u001b[0m\n",
      "\u001b[0;31mCalledProcessError\u001b[0m: Command 'b'/nfs_beijing_td/nfsshare/nfshome/ming/tools/miniconda3/envs/ByProt/bin/python \\\\\\n    /nfs_beijing_td/nfsshare/nfshome/ming/tools/ByProt-orig/examples/pmpnn_compatible/design_pdb.py \\\\\\n    --experiment_path ../experiments/protein_mpnn_cmlm/ \\\\\\n    --ckpt \"best.ckpt\" \\\\\\n    --jsonl_path /nfs_beijing_td/nfsshare/nfshome/ming/em/meso_thermo/inverse_fold/infer/mpnn/1lvm-v3/outputs-gpu/parsed_pdbs.jsonl \\\\\\n    --chain_id_jsonl /nfs_beijing_td/nfsshare/nfshome/ming/em/meso_thermo/inverse_fold/infer/mpnn/1lvm-v3/outputs-gpu/assigned_pdbs.jsonl \\\\\\n    --fixed_positions_jsonl /nfs_beijing_td/nfsshare/nfshome/ming/em/meso_thermo/inverse_fold/infer/mpnn/1lvm-v3/outputs-gpu/fixed_pdbs.jsonl \\\\\\n    --out_dir ./inpaint_test/ \\\\\\n    --seed 123 \\\\\\n    --num_seqs 3 \\\\\\n    --temperature 1.0 \\\\\\n    --max_iter 1 --strategy \"mask_predict\"\\n'' returned non-zero exit status 1."
     ]
    }
   ],
   "source": [
    "%%bash\n",
    "/nfs_beijing_td/nfsshare/nfshome/ming/tools/miniconda3/envs/ByProt/bin/python \\\n",
    "    /nfs_beijing_td/nfsshare/nfshome/ming/tools/ByProt-orig/examples/pmpnn_compatible/design_pdb.py \\\n",
    "    --experiment_path ../experiments/protein_mpnn_cmlm/ \\\n",
    "    --ckpt \"best.ckpt\" \\\n",
    "    --jsonl_path /nfs_beijing_td/nfsshare/nfshome/ming/em/meso_thermo/inverse_fold/infer/mpnn/1lvm-v3/outputs-gpu/parsed_pdbs.jsonl \\\n",
    "    --chain_id_jsonl /nfs_beijing_td/nfsshare/nfshome/ming/em/meso_thermo/inverse_fold/infer/mpnn/1lvm-v3/outputs-gpu/assigned_pdbs.jsonl \\\n",
    "    --fixed_positions_jsonl /nfs_beijing_td/nfsshare/nfshome/ming/em/meso_thermo/inverse_fold/infer/mpnn/1lvm-v3/outputs-gpu/fixed_pdbs.jsonl \\\n",
    "    --out_dir ./inpaint_test/ \\\n",
    "    --seed 123 \\\n",
    "    --num_seqs 3 \\\n",
    "    --temperature 1.0 \\\n",
    "    --max_iter 1 --strategy \"mask_predict\""
   ]
  },
  {
   "cell_type": "code",
   "execution_count": 2,
   "id": "42159cad",
   "metadata": {},
   "outputs": [
    {
     "name": "stderr",
     "output_type": "stream",
     "text": [
      "/nfs_beijing_td/nfsshare/nfshome/ming/tools/miniconda3/envs/ByProt/lib/python3.7/site-packages/tqdm/auto.py:21: TqdmWarning: IProgress not found. Please update jupyter and ipywidgets. See https://ipywidgets.readthedocs.io/en/stable/user_install.html\n",
      "  from .autonotebook import tqdm as notebook_tqdm\n"
     ]
    }
   ],
   "source": [
    "import sys\n",
    "\n",
    "sys.path.append('/nfs_beijing_td/nfsshare/nfshome/ming/tools/ByProt-orig/examples/pmpnn_compatible/')\n",
    "\n",
    "from design_pdb import *"
   ]
  },
  {
   "cell_type": "code",
   "execution_count": 5,
   "id": "fea0e1ee",
   "metadata": {},
   "outputs": [],
   "source": [
    "def make_args():\n",
    "    import argparse\n",
    "    parser = argparse.ArgumentParser()\n",
    "\n",
    "    parser.add_argument(\"--seed\", type=int, default=42)\n",
    "    parser.add_argument(\"--num_seqs\", type=int, default=20)\n",
    "    parser.add_argument(\"--experiment_path\", type=str)\n",
    "    parser.add_argument(\"--ckpt\", type=str, default=\"best.ckpt\")\n",
    "    parser.add_argument(\"--pdb_dir\", type=str, default=\"./pdbs\")\n",
    "    parser.add_argument(\"--out_dir\", type=str, default=\"./outputs\")\n",
    "    parser.add_argument(\"--temperature\", type=float, default=1.0)\n",
    "    parser.add_argument(\"--strategy\", type=str, default=\"denoise\")\n",
    "    parser.add_argument(\"--max_iter\", type=int, default=5)\n",
    "\n",
    "    parser.add_argument(\n",
    "        \"--jsonl_path\", type=str, help=\"Path to a folder with parsed pdb into jsonl\"\n",
    "    )\n",
    "    parser.add_argument(\n",
    "        \"--chain_id_jsonl\",\n",
    "        type=str,\n",
    "        default=\"\",\n",
    "        help=\"Path to a dictionary specifying which chains need to be designed and which ones are fixed, if not specied all chains will be designed.\",\n",
    "    )\n",
    "    parser.add_argument(\n",
    "        \"--fixed_positions_jsonl\",\n",
    "        type=str,\n",
    "        default=\"\",\n",
    "        help=\"Path to a dictionary with fixed positions\",\n",
    "    )\n",
    "    parser.add_argument(\n",
    "        \"--tied_positions_jsonl\",\n",
    "        type=str,\n",
    "        default=\"\",\n",
    "        help=\"Path to a dictionary with tied positions\",\n",
    "    )\n",
    "\n",
    "    # parser.add_argument(\"--omit_AAs\", type=list, default='X', help=\"Specify which amino acids should be omitted in the generated sequence, e.g. 'AC' would omit alanine and cystine.\")\n",
    "    # parser.add_argument(\"--bias_AA_jsonl\", type=str, default='', help=\"Path to a dictionary which specifies AA composion bias if neededi, e.g. {A: -1.1, F: 0.7} would make A less likely and F more likely.\")\n",
    "\n",
    "    # parser.add_argument(\"--bias_by_res_jsonl\", default='', help=\"Path to dictionary with per position bias.\")\n",
    "    # parser.add_argument(\"--omit_AA_jsonl\", type=str, default='', help=\"Path to a dictionary which specifies which amino acids need to be omited from design at specific chain indices\")\n",
    "    # parser.add_argument(\"--pssm_jsonl\", type=str, default='', help=\"Path to a dictionary with pssm\")\n",
    "    # parser.add_argument(\"--pssm_multi\", type=float, default=0.0, help=\"A value between [0.0, 1.0], 0.0 means do not use pssm, 1.0 ignore MPNN predictions\")\n",
    "    # parser.add_argument(\"--pssm_threshold\", type=float, default=0.0, help=\"A value between -inf + inf to restric per position AAs\")\n",
    "    # parser.add_argument(\"--pssm_log_odds_flag\", type=int, default=0, help=\"0 for False, 1 for True\")\n",
    "    # parser.add_argument(\"--pssm_bias_flag\", type=int, default=0, help=\"0 for False, 1 for True\")\n",
    "\n",
    "    return parser"
   ]
  },
  {
   "cell_type": "code",
   "execution_count": 24,
   "id": "bbbe1144",
   "metadata": {},
   "outputs": [],
   "source": [
    "parser = make_args()\n",
    "args = parser.parse_args(\n",
    "    [\n",
    "        '--experiment_path', '../experiments/protein_mpnn_cmlm/',\n",
    "        '--ckpt', \"best.ckpt\",\n",
    "        '--jsonl_path', '/nfs_beijing_td/nfsshare/nfshome/ming/em/meso_thermo/inverse_fold/infer/mpnn/1lvm-v3/outputs-gpu/parsed_pdbs.jsonl',\n",
    "        '--chain_id_jsonl', '/nfs_beijing_td/nfsshare/nfshome/ming/em/meso_thermo/inverse_fold/infer/mpnn/1lvm-v3/outputs-gpu/assigned_pdbs.jsonl',\n",
    "        '--fixed_positions_jsonl', '/nfs_beijing_td/nfsshare/nfshome/ming/em/meso_thermo/inverse_fold/infer/mpnn/1lvm-v3/outputs-gpu/fixed_pdbs.jsonl',\n",
    "        '--out_dir', './inpaint_test/',\n",
    "        '--seed', '123',\n",
    "        '--num_seqs', '3',\n",
    "        '--temperature', '1.0',\n",
    "        '--max_iter', '1', '--strategy', \"mask_predict\",\n",
    "    ]\n",
    ")"
   ]
  },
  {
   "cell_type": "code",
   "execution_count": 26,
   "id": "8f5bfbfb",
   "metadata": {},
   "outputs": [
    {
     "name": "stderr",
     "output_type": "stream",
     "text": [
      "Global seed set to 123\n"
     ]
    },
    {
     "name": "stdout",
     "output_type": "stream",
     "text": [
      "Restored from ../experiments/protein_mpnn_cmlm/checkpoints/best.ckpt with 0 missing and 0 unexpected keys\n"
     ]
    }
   ],
   "source": [
    "model, alphabet, collater, generator = setup_generation(args, args.ckpt)"
   ]
  },
  {
   "cell_type": "code",
   "execution_count": 27,
   "id": "69ce554b",
   "metadata": {},
   "outputs": [
    {
     "name": "stdout",
     "output_type": "stream",
     "text": [
      "----------------------------------------\n",
      "tied_positions_jsonl is NOT loaded\n",
      "discarded {'bad_chars': 0, 'too_long': 0, 'bad_seq_length': 0}\n"
     ]
    }
   ],
   "source": [
    "model = model.cuda()\n",
    "device = next(model.parameters()).device\n",
    "dataset, feats_dict = pmpnn_utils.parse_pmpnn_args(args)"
   ]
  },
  {
   "cell_type": "code",
   "execution_count": 43,
   "id": "38366fc9",
   "metadata": {},
   "outputs": [
    {
     "name": "stdout",
     "output_type": "stream",
     "text": [
      "dict_keys(['seq_chain_A', 'coords_chain_A', 'name', 'num_of_chains', 'seq'])\n",
      "dict_keys(['chain_id_dict', 'fixed_positions_dict', 'tied_positions_dict', 'pssm_dict', 'omit_AA_dict', 'bias_AA_dict', 'bias_by_res_dict'])\n"
     ]
    }
   ],
   "source": [
    "print(dataset.data[0].keys())\n",
    "print(feats_dict.keys())"
   ]
  },
  {
   "cell_type": "code",
   "execution_count": 45,
   "id": "7d7417f4",
   "metadata": {},
   "outputs": [],
   "source": [
    "protein = dataset.data[0]"
   ]
  },
  {
   "cell_type": "code",
   "execution_count": 76,
   "id": "a2d3581c",
   "metadata": {},
   "outputs": [
    {
     "name": "stdout",
     "output_type": "stream",
     "text": [
      "dict_keys(['names', 'seqs', 'coords', 'tokens', 'coord_mask', 'lengths', 'chain_mask', 'residue_idx', 'chain_idx', 'fixed_pos_mask', 'tied_pos_list', 'chain_list_list', 'visible_list_list', 'masked_list_list', 'masked_chain_length_list_list', 'prev_tokens', 'prev_token_mask'])\n"
     ]
    }
   ],
   "source": [
    "batch, native_seq = prepare_data(\n",
    "    protein, feats_dict, alphabet, num_seqs=args.num_seqs, device=device\n",
    ")\n",
    "print(batch.keys())"
   ]
  },
  {
   "cell_type": "code",
   "execution_count": 77,
   "id": "e227eff0",
   "metadata": {},
   "outputs": [
    {
     "ename": "TypeError",
     "evalue": "sample() missing 2 required positional arguments: 'coords' and 'coord_mask'",
     "output_type": "error",
     "traceback": [
      "\u001b[0;31m---------------------------------------------------------------------------\u001b[0m",
      "\u001b[0;31mTypeError\u001b[0m                                 Traceback (most recent call last)",
      "\u001b[0;32m/tmp/ipykernel_550/2088032929.py\u001b[0m in \u001b[0;36m<module>\u001b[0;34m\u001b[0m\n\u001b[1;32m      4\u001b[0m         \u001b[0mmax_iter\u001b[0m\u001b[0;34m=\u001b[0m\u001b[0margs\u001b[0m\u001b[0;34m.\u001b[0m\u001b[0mmax_iter\u001b[0m\u001b[0;34m,\u001b[0m\u001b[0;34m\u001b[0m\u001b[0;34m\u001b[0m\u001b[0m\n\u001b[1;32m      5\u001b[0m         \u001b[0mstrategy\u001b[0m\u001b[0;34m=\u001b[0m\u001b[0margs\u001b[0m\u001b[0;34m.\u001b[0m\u001b[0mstrategy\u001b[0m\u001b[0;34m,\u001b[0m\u001b[0;34m\u001b[0m\u001b[0;34m\u001b[0m\u001b[0m\n\u001b[0;32m----> 6\u001b[0;31m         \u001b[0mtemperature\u001b[0m\u001b[0;34m=\u001b[0m\u001b[0margs\u001b[0m\u001b[0;34m.\u001b[0m\u001b[0mtemperature\u001b[0m\u001b[0;34m,\u001b[0m\u001b[0;34m\u001b[0m\u001b[0;34m\u001b[0m\u001b[0m\n\u001b[0m\u001b[1;32m      7\u001b[0m     )\n",
      "\u001b[0;31mTypeError\u001b[0m: sample() missing 2 required positional arguments: 'coords' and 'coord_mask'"
     ]
    }
   ],
   "source": [
    "with autocast():\n",
    "    outputs = model.sample(\n",
    "        batch=batch,\n",
    "        max_iter=args.max_iter,\n",
    "        strategy=args.strategy,\n",
    "        temperature=args.temperature,\n",
    "    )"
   ]
  },
  {
   "cell_type": "code",
   "execution_count": 78,
   "id": "6ae41b56",
   "metadata": {
    "scrolled": true,
    "tags": []
   },
   "outputs": [
    {
     "name": "stdout",
     "output_type": "stream",
     "text": [
      "Help on method sample in module byprot.models.fixedbb:\n",
      "\n",
      "sample(coords, coord_mask, tokens=None, token_padding_mask=None, **kwargs) method of byprot.models.fixedbb.protein_mpnn_cmlm.protein_mpnn.ProteinMPNNCMLM instance\n",
      "\n"
     ]
    }
   ],
   "source": [
    "help(model.sample)\n",
    "# this function is not implemented"
   ]
  },
  {
   "cell_type": "markdown",
   "id": "2814f7ae",
   "metadata": {
    "jp-MarkdownHeadingCollapsed": true,
    "tags": []
   },
   "source": [
    "### use inpaint"
   ]
  },
  {
   "cell_type": "code",
   "execution_count": 1,
   "id": "c3a46d66-1b14-437b-afed-d72d78a3c2bf",
   "metadata": {
    "collapsed": true,
    "jupyter": {
     "outputs_hidden": true
    },
    "scrolled": true,
    "tags": []
   },
   "outputs": [
    {
     "name": "stderr",
     "output_type": "stream",
     "text": [
      "/nfs_beijing_td/nfsshare/nfshome/ming/tools/miniconda3/envs/ByProt/lib/python3.7/site-packages/tqdm/auto.py:21: TqdmWarning: IProgress not found. Please update jupyter and ipywidgets. See https://ipywidgets.readthedocs.io/en/stable/user_install.html\n",
      "  from .autonotebook import tqdm as notebook_tqdm\n"
     ]
    },
    {
     "name": "stdout",
     "output_type": "stream",
     "text": [
      "Restored from ../experiments/protein_mpnn_cmlm/checkpoints/best.ckpt with 0 missing and 0 unexpected keys\n"
     ]
    }
   ],
   "source": [
    "from byprot.utils.config import compose_config as Cfg\n",
    "from byprot.tasks.fixedbb.designer import Designer\n",
    "import pytorch_lightning as pl\n",
    "\n",
    "import numpy as np\n",
    "\n",
    "# 1. instantialize designer\n",
    "exp_path = '../experiments/protein_mpnn_cmlm/'\n",
    "cfg = Cfg(\n",
    "    cuda=True,\n",
    "    generator=Cfg(\n",
    "        max_iter=1,\n",
    "        strategy='mask_predict', \n",
    "        temperature=0,\n",
    "        eval_sc=False,  \n",
    "    )\n",
    ")\n",
    "designer = Designer(experiment_path=exp_path, cfg=cfg)"
   ]
  },
  {
   "cell_type": "code",
   "execution_count": 2,
   "id": "5bd558b6-df08-495d-9499-573c5c375f9b",
   "metadata": {},
   "outputs": [
    {
     "name": "stdout",
     "output_type": "stream",
     "text": [
      "[1, 4, 15, 22, 24, 28, 33, 39, 45, 49, 54, 56, 60, 63, 65, 69, 71, 73, 77, 82, 86, 96, 99, 102, 104, 108, 110, 114, 118, 120, 124, 128, 130, 136, 145, 155, 158, 162, 164, 166, 180, 184, 187, 191, 199, 201, 203, 206, 210] [1, 6, 20, 22, 24, 30, 33, 40, 45, 50, 54, 58, 60, 63, 67, 69, 71, 75, 80, 84, 87, 97, 99, 102, 106, 108, 111, 114, 118, 122, 124, 128, 132, 138, 145, 155, 159, 162, 164, 166, 181, 185, 189, 197, 199, 201, 203, 207, 210]\n"
     ]
    }
   ],
   "source": [
    "import pickle\n",
    "example = pickle.load(\n",
    "    open('/nfs_beijing_td/nfsshare/nfshome/ming/em/meso_thermo/inverse_fold/infer/nar_mpnn/1lvm/noise005-exp/pred.pkl', 'rb')\n",
    ")[0]\n",
    "print(example['start_ids'], example['end_ids'])"
   ]
  },
  {
   "cell_type": "code",
   "execution_count": 53,
   "id": "4205444c-daa9-4ec8-8ef5-9cad1fdff9b7",
   "metadata": {},
   "outputs": [
    {
     "name": "stdout",
     "output_type": "stream",
     "text": [
      "loading backbone structure from /nfs_beijing_td/nfsshare/nfshome/ming/em/meso_thermo/inverse_fold/infer/mpnn/1lvm-v3/inputs/1lvm_chain_A.pdb.\n"
     ]
    },
    {
     "name": "stderr",
     "output_type": "stream",
     "text": [
      "Global seed set to 123\n",
      "Global seed set to 123\n"
     ]
    },
    {
     "name": "stdout",
     "output_type": "stream",
     "text": [
      "seed-0: MESHMPGPRDYNPISNEIVRLENKSDGHKASLYGIGFGPFIITNRHLFRKNNGTLTIHSKHGVFKISNTTSLDQYLVDGKDLIIIMMPKDFPPFPQHLIFRQPKDGEAITLVTRNFQTKVKVSIVSDTSTIQPSSAGMFWKHWIQTKDGQCGSPLVSTDDGAIVGIHSASNFTNTNNYFTSVPAEFESLLNNPHRQDWISGWRLNSTSVDWGGHKVFMDKP, recovery=0.7285067873303167\n",
      "seed-1: RESAAPGPRDYNPISSQIVLLRNESDGERLSLYGIGFGPFIITNRHLFTKNNGTLALMSAHGVFKIQNTTKLDQVLIKGKDIIIIQMPKDFPPFPKELVFRQPVTGEQITMVTRNFQAKRPASEVSDVSATQPSSDGVFWKHWIVTKDGQCGSPFVSTSDGSIVGIHSASNFTNTNNYFTAVPENFMELLNDPSKQKWISGWCLNSSSVNWGGHKVFMDKP, recovery=0.7104072398190046\n",
      "seed-2: GESKKPGPRDYNPISDQIVKLTNTSDGYQTSLYGIGFGPYIITNRHLFYLNNGTLTINSKHGTFKVDNDTELDQHLINGHDLVIIDMPKDFPPFPQELKFRMPVEGEEITKVTRNFQRKIKSSEVSDVSPVYPSSNGTFWKHWIPTKDGQCGSPLVSRADGAIVGLHSASNFTNTNNYFTAVPKDFEDLLNCPSERKWRSGWSLNAQSVTWGGHKVFMDKP, recovery=0.6968325791855203\n",
      "seed-reset:  MESHMPGPRDYNPISNEIVRLENKSDGHKASLYGIGFGPFIITNRHLFRKNNGTLTIHSKHGVFKISNTTSLDQYLVDGKDLIIIMMPKDFPPFPQHLIFRQPKDGEAITLVTRNFQTKVKVSIVSDTSTIQPSSAGMFWKHWIQTKDGQCGSPLVSTDDGAIVGIHSASNFTNTNNYFTSVPAEFESLLNNPHRQDWISGWRLNSTSVDWGGHKVFMDKP, recovery=0.7285067873303167\n"
     ]
    }
   ],
   "source": [
    "orig_seq = (\n",
    "    'GESLFKGPRDYNPISSTICHLTNESDGHTTSLYGIGFGPFIITNKHLFRRNNGTLLVQSLHGVFKVKNTTTLQQHLIDGRDMIIIRMPKDFPPFPQKLK'\n",
    "    'FREPQREERICLVTTNFQTKSMSSMVSDTSCTFPSSDGIFWKHWIQTKDGQCGSPLVSTRDGFIVGIHSASNFTNTNNYFTSVPKNFMELLTNQEAQQWVSGWRLNADSVLWGGHKVFMDKP'\n",
    ")\n",
    "pdb_path = \"/nfs_beijing_td/nfsshare/nfshome/ming/em/meso_thermo/inverse_fold/infer/mpnn/1lvm-v3/inputs/1lvm_chain_A.pdb\"\n",
    "designer.set_structure(pdb_path)\n",
    "\n",
    "start_ids = [\n",
    "    1, 4, 15, 22, 24, 28, 33, 39, 45, 49, 54, 56, 60, 63, 65, 69, 71, 73, 77, 82, 86, 96, 99, 102, 104, 108, 110, 114,\n",
    "    118, 120, 124, 128, 130, 136, 145, 155, 158, 162, 164, 166, 180, 184, 187, 191, 199, 201, 203, 206, 210\n",
    "]\n",
    "end_ids = [\n",
    "    1, 6, 20, 22, 24, 30, 33, 40, 45, 50, 54, 58, 60, 63, 67, 69, 71, 75, 80, 84, 87, 97, 99, 102, 106, 108, 111, 114, \n",
    "    118, 122, 124, 128, 132, 138, 145, 155, 159, 162, 164, 166, 181, 185, 189, 197, 199, 201, 203, 207, 210\n",
    "]\n",
    "\n",
    "res_ls = []\n",
    "pl.seed_everything(123)\n",
    "for i in range(3):\n",
    "    out, ori_seg, designed_seg = designer.inpaint(\n",
    "        start_ids=[i-1 for i in start_ids], end_ids=[i-1 for i in end_ids], \n",
    "        generator_args={'temperature': 1}\n",
    "    )\n",
    "    rec = np.mean([a == b for a, b in zip(orig_seq, out.output_tokens[0])])\n",
    "    print(f'seed-{i}: {out.output_tokens[0]}, recovery={rec}')\n",
    "    res_ls.append(out.output_tokens[0])\n",
    "\n",
    "pl.seed_everything(123)\n",
    "out, ori_seg, designed_seg = designer.inpaint(\n",
    "    start_ids=[i-1 for i in start_ids], end_ids=[i-1 for i in end_ids], \n",
    "    generator_args={'temperature': 1}\n",
    ")\n",
    "rec = np.mean([a == b for a, b in zip(orig_seq, out.output_tokens[0])])\n",
    "print(f'seed-reset:  {out.output_tokens[0]}, recovery={rec}')\n",
    "res_ls.append(out.output_tokens[0])"
   ]
  },
  {
   "cell_type": "code",
   "execution_count": 54,
   "id": "f90b6dfa",
   "metadata": {},
   "outputs": [
    {
     "name": "stdout",
     "output_type": "stream",
     "text": [
      "prediction: MESHMPGPRDYNPISNEIVRLENKSDGHKASLYGIGFGPFIITNRHLFRKNNGTLTIHSKHGVFKISNTTSLDQYLVDGKDLIIIMMPKDFPPFPQHLIFRQPKDGEAITLVTRNFQTKVKVSIVSDTSTIQPSSAGMFWKHWIQTKDGQCGSPLVSTDDGAIVGIHSASNFTNTNNYFTSVPAEFESLLNNPHRQDWISGWRLNSTSVDWGGHKVFMDKP\n",
      "recovery: 0.7285067873303167\n",
      "\n"
     ]
    }
   ],
   "source": [
    "designer.calculate_metrics()"
   ]
  },
  {
   "cell_type": "code",
   "execution_count": null,
   "id": "fbee5a63-23be-45c2-89bd-d648146f72fb",
   "metadata": {},
   "outputs": [],
   "source": [
    "print(desinger._structure)"
   ]
  },
  {
   "cell_type": "markdown",
   "id": "df7e8bb0",
   "metadata": {},
   "source": [
    "## inspect  `inpaint_protein_mpnn_cmlm.py` results"
   ]
  },
  {
   "cell_type": "code",
   "execution_count": 1,
   "id": "72f543d2",
   "metadata": {},
   "outputs": [],
   "source": [
    "import pickle"
   ]
  },
  {
   "cell_type": "code",
   "execution_count": 11,
   "id": "73c5c78b-7919-4282-83f3-57afa45e37a7",
   "metadata": {},
   "outputs": [
    {
     "name": "stdout",
     "output_type": "stream",
     "text": [
      "/nfs_beijing_td/nfsshare/nfshome/ming/em/meso_thermo/inverse_fold/data/1lvm_pdbs/1lvm_chain_A.pdb\tA\t1-2,4-7,15-21,22-23,24-25,28-31,33-34,39-41,45-46,49-51,54-55,56-59,60-61,63-64,65-68,69-70,71-72,73-76,77-81,82-85,86-88,96-98,99-100,102-103,104-107,108-109,110-112,114-115,118-119,120-123,124-125,128-129,130-133,136-139,145-146,155-156,158-160,162-163,164-165,166-167,180-182,184-186,187-190,191-198,199-200,201-202,203-204,206-208,210-211\t1\t3\t123\n"
     ]
    }
   ],
   "source": [
    "cat \"./inpaint_test/pdb.list\""
   ]
  },
  {
   "cell_type": "code",
   "execution_count": 5,
   "id": "53385d74-b670-466c-b63e-b8cfe6e04b96",
   "metadata": {},
   "outputs": [
    {
     "name": "stdout",
     "output_type": "stream",
     "text": [
      "[{'seq_info': [['seq_0', 'MESHAPGPRDYNPISDQIVRLTNTSDGYSRSLYGIGFGPFIITNRHLFTLNNGTLEIVSKHGVFTIENTTKLDQYLIEGRDIIIIKMPKDFPPFPTTLVFRQPVDGENITLVTRNFQSKVPVSLVSDTSPTTPSSNGTFWKHWIPTKDGQCGSPLVSTEDGAIVGIHSASNFTNTNNYFTAVPPDFEDLLNNPAKQKWVSGWHLNSDSVNWGGHKVFMDKP'], ['seq_1', 'MESHAPGPRDYNPISDQIVRLTNTSDGYSRSLYGIGFGPFIITNRHLFVLNNGTLEIVSKHGVFTIENTTKLDQVLIEGRDIIIIKMPKDFPPFPTTLVFRQPVDGENITLVTRNFQAKVPESLVSDTSPTTPSSNGTFWKHWIPTKDGQCGSPLVSTEDGAIVGIHSASNFTNTNNYFTAVPPNFMDLLNDPAKQKWVSGWKLNSDSVNWGGHKVFMDKP'], ['seq_2', 'MESHAPGPRDYNPISDQIVRLTNTSDGYSRSLYGIGFGPYIITNRHLFVLNNGTLEIESKHGVFTIENTTELDQHLIDGRDIIIIKMPKDFPPFPTTLVFRQPVDGENITLVTRNFQAKVPVSLVSDTSPTTPSSNGTFWKHWIPTKDGQCGSPLVSTEDGAIVGIHSASNFTNTNNYFTAVPPNFEDLLNDPAKQKWISGWSLNSDSVNWGGHKVFMDKP']], 'start_ids': [1, 4, 15, 22, 24, 28, 33, 39, 45, 49, 54, 56, 60, 63, 65, 69, 71, 73, 77, 82, 86, 96, 99, 102, 104, 108, 110, 114, 118, 120, 124, 128, 130, 136, 145, 155, 158, 162, 164, 166, 180, 184, 187, 191, 199, 201, 203, 206, 210], 'end_ids': [1, 6, 20, 22, 24, 30, 33, 40, 45, 50, 54, 58, 60, 63, 67, 69, 71, 75, 80, 84, 87, 97, 99, 102, 106, 108, 111, 114, 118, 122, 124, 128, 132, 138, 145, 155, 159, 162, 164, 166, 181, 185, 189, 197, 199, 201, 203, 207, 210], 'pdb_path': '/nfs_beijing_td/nfsshare/nfshome/ming/em/meso_thermo/inverse_fold/data/1lvm_pdbs/1lvm_chain_A.pdb', 'temperature': 0.1, 'seed': 123}]\n"
     ]
    }
   ],
   "source": [
    "res = pickle.load(open('./inpaint_test/pred.pkl', 'rb'))\n",
    "print(res)"
   ]
  },
  {
   "cell_type": "code",
   "execution_count": null,
   "id": "b5f4a902-59cb-4948-81fc-6fadaf117bea",
   "metadata": {},
   "outputs": [],
   "source": []
  }
 ],
 "metadata": {
  "celltoolbar": "原始单元格格式",
  "kernelspec": {
   "display_name": "ByProt",
   "language": "python",
   "name": "byprot"
  },
  "language_info": {
   "codemirror_mode": {
    "name": "ipython",
    "version": 3
   },
   "file_extension": ".py",
   "mimetype": "text/x-python",
   "name": "python",
   "nbconvert_exporter": "python",
   "pygments_lexer": "ipython3",
   "version": "3.7.12"
  }
 },
 "nbformat": 4,
 "nbformat_minor": 5
}
